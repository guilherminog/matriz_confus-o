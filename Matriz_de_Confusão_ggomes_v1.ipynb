{
  "cells": [
    {
      "attachments": {},
      "cell_type": "markdown",
      "metadata": {
        "colab_type": "text",
        "id": "view-in-github"
      },
      "source": [
        "<a href=\"https://colab.research.google.com/github/y93r/MachineLearning_DIO/blob/main/Matriz_de_Confus%C3%A3o.ipynb\" target=\"_parent\"><img src=\"https://colab.research.google.com/assets/colab-badge.svg\" alt=\"Open In Colab\"/></a>"
      ]
    },
    {
      "cell_type": "code",
      "execution_count": 6,
      "metadata": {
        "colab": {
          "base_uri": "https://localhost:8080/"
        },
        "id": "AL4C7siH5khM",
        "outputId": "2185ea5f-ecb7-4af2-d583-002be16a72ac"
      },
      "outputs": [
        {
          "name": "stdout",
          "output_type": "stream",
          "text": [
            "Matriz de Confusão:\n",
            "               Predito Positivo  Predito Negativo\n",
            "Real Positivo                 4                 3\n",
            "Real Negativo                 9                 4\n",
            "Acurácia: 0.4\n",
            "Sensibilidade: 0.3076923076923077\n",
            "Especificidade: 0.5714285714285714\n",
            "Precisão: 0.5714285714285714\n",
            "F-Score: 0.4\n"
          ]
        }
      ],
      "source": [
        "import numpy as np\n",
        "import pandas as pd\n",
        "\n",
        "def get_confusion_matrix(reais, preditos, labels):\n",
        "\n",
        "    if len(labels) > 2:\n",
        "        return None\n",
        "\n",
        "    if len(reais) != len(preditos):\n",
        "        return None\n",
        "    \n",
        "    true_class = labels[0]\n",
        "    negative_class = labels[1]\n",
        "\n",
        "    tp = 0\n",
        "    tn = 0\n",
        "    fp = 0\n",
        "    fn = 0\n",
        "    \n",
        "    for (indice, v_real) in enumerate(reais):\n",
        "        v_predito = preditos[indice]\n",
        "\n",
        "        if v_real == true_class:\n",
        "            tp += 1 if v_predito == v_real else 0\n",
        "            fp += 1 if v_predito != v_real else 0\n",
        "        else:\n",
        "            tn += 1 if v_predito == v_real else 0\n",
        "            fn += 1 if v_predito != v_real else 0\n",
        "    \n",
        "    return np.array([\n",
        "        [tp, fp],\n",
        "        [fn, tn]\n",
        "    ])\n",
        "\n",
        "def calcular_acuracia(VP, VN, FP, FN):\n",
        "    total_elementos = VP + VN + FP + FN\n",
        "    acuracia = (VP + VN) / total_elementos\n",
        "    return acuracia\n",
        "\n",
        "def calcular_sensibilidade(VP, FN):\n",
        "    sensibilidade = VP / (VP + FN)\n",
        "    return sensibilidade\n",
        "\n",
        "def calcular_especificidade(VN, FP):\n",
        "    especificidade = VN / (VN + FP)\n",
        "    return especificidade\n",
        "\n",
        "def calcular_precisao(VP, FP):\n",
        "    precisao = VP / (VP + FP)\n",
        "    return precisao\n",
        "\n",
        "def calcular_f_score(VP, FP, FN):\n",
        "    precisao = calcular_precisao(VP, FP)\n",
        "    sensibilidade = calcular_sensibilidade(VP, FN)\n",
        "    f_score = 2 * (precisao * sensibilidade) / (precisao + sensibilidade)\n",
        "    return f_score\n",
        "\n",
        "\n",
        "# Gerar valores reais e preditos aleatórios\n",
        "np.random.seed(42)  # Para garantir a reprodutibilidade\n",
        "valores_reais = np.random.randint(0, 2, size=20)\n",
        "valores_preditos = np.random.randint(0, 2, size=20)\n",
        "\n",
        "# Calcular matriz de confusão\n",
        "matriz_confusao = get_confusion_matrix(reais=valores_reais, preditos=valores_preditos, labels=[1, 0])\n",
        "\n",
        "# Converter matriz de confusão para DataFrame do Pandas\n",
        "matriz_confusao_df = pd.DataFrame(matriz_confusao, columns=['Predito Positivo', 'Predito Negativo'], index=['Real Positivo', 'Real Negativo'])\n",
        "\n",
        "# Calcular métricas\n",
        "VP = matriz_confusao[0, 0]\n",
        "VN = matriz_confusao[1, 1]\n",
        "FP = matriz_confusao[0, 1]\n",
        "FN = matriz_confusao[1, 0]\n",
        "\n",
        "acuracia = calcular_acuracia(VP, VN, FP, FN)\n",
        "sensibilidade = calcular_sensibilidade(VP, FN)\n",
        "especificidade = calcular_especificidade(VN, FP)\n",
        "precisao = calcular_precisao(VP, FP)\n",
        "f_score = calcular_f_score(VP, FP, FN)\n",
        "\n",
        "# Imprimir resultados\n",
        "print(\"Matriz de Confusão:\")\n",
        "print(matriz_confusao_df)\n",
        "print(\"Acurácia:\", acuracia)\n",
        "print(\"Sensibilidade:\", sensibilidade)\n",
        "print(\"Especificidade:\", especificidade)\n",
        "print(\"Precisão:\", precisao)\n",
        "print(\"F-Score:\", f_score)"
      ]
    }
  ],
  "metadata": {
    "colab": {
      "authorship_tag": "ABX9TyPxkm2AHH+wQy0RHKOj5uX+",
      "include_colab_link": true,
      "name": "Matriz de Confusão.ipynb",
      "provenance": []
    },
    "kernelspec": {
      "display_name": "Python 3",
      "name": "python3"
    },
    "language_info": {
      "codemirror_mode": {
        "name": "ipython",
        "version": 3
      },
      "file_extension": ".py",
      "mimetype": "text/x-python",
      "name": "python",
      "nbconvert_exporter": "python",
      "pygments_lexer": "ipython3",
      "version": "3.9.13"
    }
  },
  "nbformat": 4,
  "nbformat_minor": 0
}
